{
 "cells": [
  {
   "cell_type": "code",
   "execution_count": 1,
   "id": "b2ce2bfb-b05e-4cae-aa8f-9bab4a6d2f66",
   "metadata": {},
   "outputs": [
    {
     "name": "stdout",
     "output_type": "stream",
     "text": [
      "C:/Users/Elias/Desktop/ecole/code/.ipynb_checkpoints/msedgedriver.exe\n"
     ]
    }
   ],
   "source": [
    "\n",
    "import os\n",
    "import time\n",
    "from selenium import webdriver\n",
    "from selenium.webdriver.edge.service import Service\n",
    "from selenium.webdriver.edge.options import Options\n",
    "\n",
    "user_agent = 'Mozilla/5.0 (Windows NT 10.0; Win64; x64) AppleWebKit/537.36 (KHTML, like Gecko) Chrome/125.0.0.0 Safari/537.36'\n",
    "\n",
    "\n",
    "# Les 20 codes promotionnels\n",
    "codes_promo = [\n",
    "    \"Pepechicken20246j-%©30W\",\n",
    "    \"Pepechicken20246j-®™30W\",\n",
    "    \"Pepechicken20246j-✓[]30W\",\n",
    "    \"Pepechicken20246j-£¥30W\",\n",
    "    \"Pepechicken20246j-$¢30W\",\n",
    "    \"Pepechicken20246j-^°30W\",\n",
    "    \"Pepechicken20246j-={}30W\",\n",
    "    \"Pepechicken20246j-∆§30W\",\n",
    "    \"Pepechicken20246j-×÷30W\",\n",
    "    \"Pepechicken20246j-π√30W\",\n",
    "    \"Pepechicken20246j-•|30W\",\n",
    "    \"Pepechicken20246j-`~30W\",\n",
    "    \"Pepechicken20246j-©®30W\",\n",
    "    \"Pepechicken20246j-™✓30W\",\n",
    "    \"Pepechicken20246j-[]£30W\",\n",
    "    \"Pepechicken20246j-¥$30W\",\n",
    "    \"Pepechicken20246j-¢^30W\",\n",
    "    \"Pepechicken20246j-°={}30W\",\n",
    "    \"Pepechicken20246j-§×30W\",\n",
    "    \"Pepechicken20246j-÷π30W\"\n",
    "]\n",
    "\n",
    "# Chemin vers le WebDriver d'edge\n",
    "driver_path = 'C:/Users/Elias/Desktop/ecole/code/.ipynb_checkpoints/msedgedriver.exe'\n",
    "print(driver_path)\n",
    "edge_service = Service(driver_path)\n",
    "edge_options = Options()\n",
    "edge_options.add_argument(f'user-agent={user_agent}')\n",
    "\n",
    "\n",
    "# Initialisation du navigateur\n",
    "browser = webdriver.Edge(service=edge_service, options=edge_options)\n",
    "\n",
    "# Se rendre sur le site d'Uber Eats\n",
    "browser.get(\"https://ubereat.com\")\n",
    "\n"
   ]
  },
  {
   "cell_type": "code",
   "execution_count": null,
   "id": "951ea49f-455a-4655-b226-586e8ef6734d",
   "metadata": {},
   "outputs": [],
   "source": []
  }
 ],
 "metadata": {
  "kernelspec": {
   "display_name": "Python 3 (ipykernel)",
   "language": "python",
   "name": "python3"
  },
  "language_info": {
   "codemirror_mode": {
    "name": "ipython",
    "version": 3
   },
   "file_extension": ".py",
   "mimetype": "text/x-python",
   "name": "python",
   "nbconvert_exporter": "python",
   "pygments_lexer": "ipython3",
   "version": "3.12.0"
  }
 },
 "nbformat": 4,
 "nbformat_minor": 5
}
